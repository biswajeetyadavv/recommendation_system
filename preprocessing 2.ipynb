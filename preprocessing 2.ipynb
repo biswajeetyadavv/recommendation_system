{
 "cells": [
  {
   "cell_type": "code",
   "execution_count": 1,
   "metadata": {
    "_cell_guid": "b1076dfc-b9ad-4769-8c92-a6c4dae69d19",
    "_uuid": "8f2839f25d086af736a60e9eeb907d3b93b6e0e5"
   },
   "outputs": [],
   "source": [
    "import numpy as np\n",
    "import pandas as pd"
   ]
  },
  {
   "cell_type": "code",
   "execution_count": 2,
   "metadata": {
    "_cell_guid": "79c7e3d0-c299-4dcb-8224-4455121ee9b0",
    "_uuid": "d629ff2d2480ee46fbb7e2d37f6b5fab8052498a"
   },
   "outputs": [],
   "source": [
    "credits = pd.read_csv('credits.csv')"
   ]
  },
  {
   "cell_type": "code",
   "execution_count": 3,
   "metadata": {},
   "outputs": [
    {
     "data": {
      "text/html": [
       "<div>\n",
       "<style scoped>\n",
       "    .dataframe tbody tr th:only-of-type {\n",
       "        vertical-align: middle;\n",
       "    }\n",
       "\n",
       "    .dataframe tbody tr th {\n",
       "        vertical-align: top;\n",
       "    }\n",
       "\n",
       "    .dataframe thead th {\n",
       "        text-align: right;\n",
       "    }\n",
       "</style>\n",
       "<table border=\"1\" class=\"dataframe\">\n",
       "  <thead>\n",
       "    <tr style=\"text-align: right;\">\n",
       "      <th></th>\n",
       "      <th>cast</th>\n",
       "      <th>crew</th>\n",
       "      <th>id</th>\n",
       "    </tr>\n",
       "  </thead>\n",
       "  <tbody>\n",
       "    <tr>\n",
       "      <th>0</th>\n",
       "      <td>[{'cast_id': 14, 'character': 'Woody (voice)',...</td>\n",
       "      <td>[{'credit_id': '52fe4284c3a36847f8024f49', 'de...</td>\n",
       "      <td>862</td>\n",
       "    </tr>\n",
       "    <tr>\n",
       "      <th>1</th>\n",
       "      <td>[{'cast_id': 1, 'character': 'Alan Parrish', '...</td>\n",
       "      <td>[{'credit_id': '52fe44bfc3a36847f80a7cd1', 'de...</td>\n",
       "      <td>8844</td>\n",
       "    </tr>\n",
       "    <tr>\n",
       "      <th>2</th>\n",
       "      <td>[{'cast_id': 2, 'character': 'Max Goldman', 'c...</td>\n",
       "      <td>[{'credit_id': '52fe466a9251416c75077a89', 'de...</td>\n",
       "      <td>15602</td>\n",
       "    </tr>\n",
       "    <tr>\n",
       "      <th>3</th>\n",
       "      <td>[{'cast_id': 1, 'character': \"Savannah 'Vannah...</td>\n",
       "      <td>[{'credit_id': '52fe44779251416c91011acb', 'de...</td>\n",
       "      <td>31357</td>\n",
       "    </tr>\n",
       "    <tr>\n",
       "      <th>4</th>\n",
       "      <td>[{'cast_id': 1, 'character': 'George Banks', '...</td>\n",
       "      <td>[{'credit_id': '52fe44959251416c75039ed7', 'de...</td>\n",
       "      <td>11862</td>\n",
       "    </tr>\n",
       "    <tr>\n",
       "      <th>...</th>\n",
       "      <td>...</td>\n",
       "      <td>...</td>\n",
       "      <td>...</td>\n",
       "    </tr>\n",
       "    <tr>\n",
       "      <th>45471</th>\n",
       "      <td>[{'cast_id': 0, 'character': '', 'credit_id': ...</td>\n",
       "      <td>[{'credit_id': '5894a97d925141426c00818c', 'de...</td>\n",
       "      <td>439050</td>\n",
       "    </tr>\n",
       "    <tr>\n",
       "      <th>45472</th>\n",
       "      <td>[{'cast_id': 1002, 'character': 'Sister Angela...</td>\n",
       "      <td>[{'credit_id': '52fe4af1c3a36847f81e9b15', 'de...</td>\n",
       "      <td>111109</td>\n",
       "    </tr>\n",
       "    <tr>\n",
       "      <th>45473</th>\n",
       "      <td>[{'cast_id': 6, 'character': 'Emily Shaw', 'cr...</td>\n",
       "      <td>[{'credit_id': '52fe4776c3a368484e0c8387', 'de...</td>\n",
       "      <td>67758</td>\n",
       "    </tr>\n",
       "    <tr>\n",
       "      <th>45474</th>\n",
       "      <td>[{'cast_id': 2, 'character': '', 'credit_id': ...</td>\n",
       "      <td>[{'credit_id': '533bccebc3a36844cf0011a7', 'de...</td>\n",
       "      <td>227506</td>\n",
       "    </tr>\n",
       "    <tr>\n",
       "      <th>45475</th>\n",
       "      <td>[]</td>\n",
       "      <td>[{'credit_id': '593e676c92514105b702e68e', 'de...</td>\n",
       "      <td>461257</td>\n",
       "    </tr>\n",
       "  </tbody>\n",
       "</table>\n",
       "<p>45476 rows × 3 columns</p>\n",
       "</div>"
      ],
      "text/plain": [
       "                                                    cast  \\\n",
       "0      [{'cast_id': 14, 'character': 'Woody (voice)',...   \n",
       "1      [{'cast_id': 1, 'character': 'Alan Parrish', '...   \n",
       "2      [{'cast_id': 2, 'character': 'Max Goldman', 'c...   \n",
       "3      [{'cast_id': 1, 'character': \"Savannah 'Vannah...   \n",
       "4      [{'cast_id': 1, 'character': 'George Banks', '...   \n",
       "...                                                  ...   \n",
       "45471  [{'cast_id': 0, 'character': '', 'credit_id': ...   \n",
       "45472  [{'cast_id': 1002, 'character': 'Sister Angela...   \n",
       "45473  [{'cast_id': 6, 'character': 'Emily Shaw', 'cr...   \n",
       "45474  [{'cast_id': 2, 'character': '', 'credit_id': ...   \n",
       "45475                                                 []   \n",
       "\n",
       "                                                    crew      id  \n",
       "0      [{'credit_id': '52fe4284c3a36847f8024f49', 'de...     862  \n",
       "1      [{'credit_id': '52fe44bfc3a36847f80a7cd1', 'de...    8844  \n",
       "2      [{'credit_id': '52fe466a9251416c75077a89', 'de...   15602  \n",
       "3      [{'credit_id': '52fe44779251416c91011acb', 'de...   31357  \n",
       "4      [{'credit_id': '52fe44959251416c75039ed7', 'de...   11862  \n",
       "...                                                  ...     ...  \n",
       "45471  [{'credit_id': '5894a97d925141426c00818c', 'de...  439050  \n",
       "45472  [{'credit_id': '52fe4af1c3a36847f81e9b15', 'de...  111109  \n",
       "45473  [{'credit_id': '52fe4776c3a368484e0c8387', 'de...   67758  \n",
       "45474  [{'credit_id': '533bccebc3a36844cf0011a7', 'de...  227506  \n",
       "45475  [{'credit_id': '593e676c92514105b702e68e', 'de...  461257  \n",
       "\n",
       "[45476 rows x 3 columns]"
      ]
     },
     "execution_count": 3,
     "metadata": {},
     "output_type": "execute_result"
    }
   ],
   "source": [
    "credits"
   ]
  },
  {
   "cell_type": "code",
   "execution_count": 4,
   "metadata": {},
   "outputs": [
    {
     "name": "stderr",
     "output_type": "stream",
     "text": [
      "C:\\Users\\HP\\AppData\\Local\\Temp\\ipykernel_19532\\2048473160.py:1: DtypeWarning: Columns (10) have mixed types. Specify dtype option on import or set low_memory=False.\n",
      "  meta = pd.read_csv('movies_metadata.csv')\n"
     ]
    }
   ],
   "source": [
    "meta = pd.read_csv('movies_metadata.csv')"
   ]
  },
  {
   "cell_type": "code",
   "execution_count": 5,
   "metadata": {},
   "outputs": [],
   "source": [
    "meta['release_date'] = pd.to_datetime(meta['release_date'], errors='coerce')"
   ]
  },
  {
   "cell_type": "code",
   "execution_count": 6,
   "metadata": {},
   "outputs": [],
   "source": [
    "\n",
    "meta['year'] = meta['release_date'].dt.year"
   ]
  },
  {
   "cell_type": "code",
   "execution_count": 7,
   "metadata": {},
   "outputs": [
    {
     "data": {
      "text/plain": [
       "year\n",
       "1874.0       1\n",
       "1878.0       1\n",
       "1883.0       1\n",
       "1887.0       1\n",
       "1888.0       2\n",
       "          ... \n",
       "2015.0    1905\n",
       "2016.0    1604\n",
       "2017.0     532\n",
       "2018.0       5\n",
       "2020.0       1\n",
       "Name: count, Length: 135, dtype: int64"
      ]
     },
     "execution_count": 7,
     "metadata": {},
     "output_type": "execute_result"
    }
   ],
   "source": [
    "meta['year'].value_counts().sort_index()"
   ]
  },
  {
   "cell_type": "code",
   "execution_count": 8,
   "metadata": {},
   "outputs": [],
   "source": [
    "# Getting only 2017 movies as we already have movies up to the year 2016 in preprocessing 1 file. \n",
    "# We don't have enough data for the movies from 2018, 2019 and 2020. \n",
    "# We'll deal with it in the upcoming preprocessing files\n",
    "new_meta = meta.loc[meta.year == 2017,['genres','id','title','year']]"
   ]
  },
  {
   "cell_type": "code",
   "execution_count": 9,
   "metadata": {},
   "outputs": [
    {
     "data": {
      "text/html": [
       "<div>\n",
       "<style scoped>\n",
       "    .dataframe tbody tr th:only-of-type {\n",
       "        vertical-align: middle;\n",
       "    }\n",
       "\n",
       "    .dataframe tbody tr th {\n",
       "        vertical-align: top;\n",
       "    }\n",
       "\n",
       "    .dataframe thead th {\n",
       "        text-align: right;\n",
       "    }\n",
       "</style>\n",
       "<table border=\"1\" class=\"dataframe\">\n",
       "  <thead>\n",
       "    <tr style=\"text-align: right;\">\n",
       "      <th></th>\n",
       "      <th>genres</th>\n",
       "      <th>id</th>\n",
       "      <th>title</th>\n",
       "      <th>year</th>\n",
       "    </tr>\n",
       "  </thead>\n",
       "  <tbody>\n",
       "    <tr>\n",
       "      <th>26560</th>\n",
       "      <td>[{'id': 12, 'name': 'Adventure'}, {'id': 28, '...</td>\n",
       "      <td>166426</td>\n",
       "      <td>Pirates of the Caribbean: Dead Men Tell No Tales</td>\n",
       "      <td>2017.0</td>\n",
       "    </tr>\n",
       "    <tr>\n",
       "      <th>26561</th>\n",
       "      <td>[{'id': 28, 'name': 'Action'}, {'id': 12, 'nam...</td>\n",
       "      <td>141052</td>\n",
       "      <td>Justice League</td>\n",
       "      <td>2017.0</td>\n",
       "    </tr>\n",
       "    <tr>\n",
       "      <th>26565</th>\n",
       "      <td>[{'id': 28, 'name': 'Action'}, {'id': 12, 'nam...</td>\n",
       "      <td>284053</td>\n",
       "      <td>Thor: Ragnarok</td>\n",
       "      <td>2017.0</td>\n",
       "    </tr>\n",
       "    <tr>\n",
       "      <th>26566</th>\n",
       "      <td>[{'id': 28, 'name': 'Action'}, {'id': 12, 'nam...</td>\n",
       "      <td>283995</td>\n",
       "      <td>Guardians of the Galaxy Vol. 2</td>\n",
       "      <td>2017.0</td>\n",
       "    </tr>\n",
       "    <tr>\n",
       "      <th>30536</th>\n",
       "      <td>[{'id': 14, 'name': 'Fantasy'}, {'id': 28, 'na...</td>\n",
       "      <td>245842</td>\n",
       "      <td>The King's Daughter</td>\n",
       "      <td>2017.0</td>\n",
       "    </tr>\n",
       "    <tr>\n",
       "      <th>...</th>\n",
       "      <td>...</td>\n",
       "      <td>...</td>\n",
       "      <td>...</td>\n",
       "      <td>...</td>\n",
       "    </tr>\n",
       "    <tr>\n",
       "      <th>45398</th>\n",
       "      <td>[{'id': 10749, 'name': 'Romance'}, {'id': 35, ...</td>\n",
       "      <td>468707</td>\n",
       "      <td>Thick Lashes of Lauri Mäntyvaara</td>\n",
       "      <td>2017.0</td>\n",
       "    </tr>\n",
       "    <tr>\n",
       "      <th>45417</th>\n",
       "      <td>[{'id': 80, 'name': 'Crime'}, {'id': 35, 'name...</td>\n",
       "      <td>461297</td>\n",
       "      <td>Cop and a Half: New Recruit</td>\n",
       "      <td>2017.0</td>\n",
       "    </tr>\n",
       "    <tr>\n",
       "      <th>45437</th>\n",
       "      <td>[{'id': 10751, 'name': 'Family'}, {'id': 16, '...</td>\n",
       "      <td>455661</td>\n",
       "      <td>In a Heartbeat</td>\n",
       "      <td>2017.0</td>\n",
       "    </tr>\n",
       "    <tr>\n",
       "      <th>45453</th>\n",
       "      <td>[{'id': 80, 'name': 'Crime'}, {'id': 18, 'name...</td>\n",
       "      <td>404604</td>\n",
       "      <td>Mom</td>\n",
       "      <td>2017.0</td>\n",
       "    </tr>\n",
       "    <tr>\n",
       "      <th>45465</th>\n",
       "      <td>[]</td>\n",
       "      <td>461257</td>\n",
       "      <td>Queerama</td>\n",
       "      <td>2017.0</td>\n",
       "    </tr>\n",
       "  </tbody>\n",
       "</table>\n",
       "<p>532 rows × 4 columns</p>\n",
       "</div>"
      ],
      "text/plain": [
       "                                                  genres      id  \\\n",
       "26560  [{'id': 12, 'name': 'Adventure'}, {'id': 28, '...  166426   \n",
       "26561  [{'id': 28, 'name': 'Action'}, {'id': 12, 'nam...  141052   \n",
       "26565  [{'id': 28, 'name': 'Action'}, {'id': 12, 'nam...  284053   \n",
       "26566  [{'id': 28, 'name': 'Action'}, {'id': 12, 'nam...  283995   \n",
       "30536  [{'id': 14, 'name': 'Fantasy'}, {'id': 28, 'na...  245842   \n",
       "...                                                  ...     ...   \n",
       "45398  [{'id': 10749, 'name': 'Romance'}, {'id': 35, ...  468707   \n",
       "45417  [{'id': 80, 'name': 'Crime'}, {'id': 35, 'name...  461297   \n",
       "45437  [{'id': 10751, 'name': 'Family'}, {'id': 16, '...  455661   \n",
       "45453  [{'id': 80, 'name': 'Crime'}, {'id': 18, 'name...  404604   \n",
       "45465                                                 []  461257   \n",
       "\n",
       "                                                  title    year  \n",
       "26560  Pirates of the Caribbean: Dead Men Tell No Tales  2017.0  \n",
       "26561                                    Justice League  2017.0  \n",
       "26565                                    Thor: Ragnarok  2017.0  \n",
       "26566                    Guardians of the Galaxy Vol. 2  2017.0  \n",
       "30536                               The King's Daughter  2017.0  \n",
       "...                                                 ...     ...  \n",
       "45398                  Thick Lashes of Lauri Mäntyvaara  2017.0  \n",
       "45417                       Cop and a Half: New Recruit  2017.0  \n",
       "45437                                    In a Heartbeat  2017.0  \n",
       "45453                                               Mom  2017.0  \n",
       "45465                                          Queerama  2017.0  \n",
       "\n",
       "[532 rows x 4 columns]"
      ]
     },
     "execution_count": 9,
     "metadata": {},
     "output_type": "execute_result"
    }
   ],
   "source": [
    "new_meta"
   ]
  },
  {
   "cell_type": "code",
   "execution_count": 10,
   "metadata": {},
   "outputs": [],
   "source": [
    "new_meta['id'] = new_meta['id'].astype(int)"
   ]
  },
  {
   "cell_type": "code",
   "execution_count": 11,
   "metadata": {},
   "outputs": [],
   "source": [
    "data = pd.merge(new_meta, credits, on='id')"
   ]
  },
  {
   "cell_type": "code",
   "execution_count": 12,
   "metadata": {},
   "outputs": [
    {
     "data": {
      "text/html": [
       "<div>\n",
       "<style scoped>\n",
       "    .dataframe tbody tr th:only-of-type {\n",
       "        vertical-align: middle;\n",
       "    }\n",
       "\n",
       "    .dataframe tbody tr th {\n",
       "        vertical-align: top;\n",
       "    }\n",
       "\n",
       "    .dataframe thead th {\n",
       "        text-align: right;\n",
       "    }\n",
       "</style>\n",
       "<table border=\"1\" class=\"dataframe\">\n",
       "  <thead>\n",
       "    <tr style=\"text-align: right;\">\n",
       "      <th></th>\n",
       "      <th>genres</th>\n",
       "      <th>id</th>\n",
       "      <th>title</th>\n",
       "      <th>year</th>\n",
       "      <th>cast</th>\n",
       "      <th>crew</th>\n",
       "    </tr>\n",
       "  </thead>\n",
       "  <tbody>\n",
       "    <tr>\n",
       "      <th>0</th>\n",
       "      <td>[{'id': 12, 'name': 'Adventure'}, {'id': 28, 'name': 'Action'}, {'id': ...</td>\n",
       "      <td>166426</td>\n",
       "      <td>Pirates of the Caribbean: Dead Men Tell No Tales</td>\n",
       "      <td>2017.0</td>\n",
       "      <td>[{'cast_id': 1, 'character': 'Captain Jack Sparrow', 'credit_id': '52fe...</td>\n",
       "      <td>[{'credit_id': '52fe4c9cc3a36847f8236a65', 'department': 'Production', ...</td>\n",
       "    </tr>\n",
       "    <tr>\n",
       "      <th>1</th>\n",
       "      <td>[{'id': 28, 'name': 'Action'}, {'id': 12, 'name': 'Adventure'}, {'id': ...</td>\n",
       "      <td>141052</td>\n",
       "      <td>Justice League</td>\n",
       "      <td>2017.0</td>\n",
       "      <td>[{'cast_id': 2, 'character': 'Bruce Wayne / Batman', 'credit_id': '535e...</td>\n",
       "      <td>[{'credit_id': '55ef66dbc3a3686f1700a52d', 'department': 'Production', ...</td>\n",
       "    </tr>\n",
       "    <tr>\n",
       "      <th>2</th>\n",
       "      <td>[{'id': 28, 'name': 'Action'}, {'id': 12, 'name': 'Adventure'}, {'id': ...</td>\n",
       "      <td>284053</td>\n",
       "      <td>Thor: Ragnarok</td>\n",
       "      <td>2017.0</td>\n",
       "      <td>[{'cast_id': 0, 'character': 'Thor Odinson', 'credit_id': '545d46a80e0a...</td>\n",
       "      <td>[{'credit_id': '56a93fa4c3a36872db001e7a', 'department': 'Writing', 'ge...</td>\n",
       "    </tr>\n",
       "    <tr>\n",
       "      <th>3</th>\n",
       "      <td>[{'id': 28, 'name': 'Action'}, {'id': 12, 'name': 'Adventure'}, {'id': ...</td>\n",
       "      <td>283995</td>\n",
       "      <td>Guardians of the Galaxy Vol. 2</td>\n",
       "      <td>2017.0</td>\n",
       "      <td>[{'cast_id': 3, 'character': 'Peter Quill / Star-Lord', 'credit_id': '5...</td>\n",
       "      <td>[{'credit_id': '59171547925141583c0315a6', 'department': 'Sound', 'gend...</td>\n",
       "    </tr>\n",
       "    <tr>\n",
       "      <th>4</th>\n",
       "      <td>[{'id': 14, 'name': 'Fantasy'}, {'id': 28, 'name': 'Action'}, {'id': 12...</td>\n",
       "      <td>245842</td>\n",
       "      <td>The King's Daughter</td>\n",
       "      <td>2017.0</td>\n",
       "      <td>[{'cast_id': 0, 'character': 'King Louis XIV', 'credit_id': '5431dd580e...</td>\n",
       "      <td>[{'credit_id': '5431de49c3a36825d300007e', 'department': 'Directing', '...</td>\n",
       "    </tr>\n",
       "    <tr>\n",
       "      <th>...</th>\n",
       "      <td>...</td>\n",
       "      <td>...</td>\n",
       "      <td>...</td>\n",
       "      <td>...</td>\n",
       "      <td>...</td>\n",
       "      <td>...</td>\n",
       "    </tr>\n",
       "    <tr>\n",
       "      <th>526</th>\n",
       "      <td>[{'id': 10749, 'name': 'Romance'}, {'id': 35, 'name': 'Comedy'}]</td>\n",
       "      <td>468707</td>\n",
       "      <td>Thick Lashes of Lauri Mäntyvaara</td>\n",
       "      <td>2017.0</td>\n",
       "      <td>[{'cast_id': 0, 'character': 'Satu', 'credit_id': '597e2086c3a368544001...</td>\n",
       "      <td>[{'credit_id': '597e22f69251415d7801c74a', 'department': 'Directing', '...</td>\n",
       "    </tr>\n",
       "    <tr>\n",
       "      <th>527</th>\n",
       "      <td>[{'id': 80, 'name': 'Crime'}, {'id': 35, 'name': 'Comedy'}, {'id': 28, ...</td>\n",
       "      <td>461297</td>\n",
       "      <td>Cop and a Half: New Recruit</td>\n",
       "      <td>2017.0</td>\n",
       "      <td>[{'cast_id': 0, 'character': 'Detective Simmons', 'credit_id': '593ba04...</td>\n",
       "      <td>[{'credit_id': '593ba0c29251410593009be3', 'department': 'Writing', 'ge...</td>\n",
       "    </tr>\n",
       "    <tr>\n",
       "      <th>528</th>\n",
       "      <td>[{'id': 10751, 'name': 'Family'}, {'id': 16, 'name': 'Animation'}, {'id...</td>\n",
       "      <td>455661</td>\n",
       "      <td>In a Heartbeat</td>\n",
       "      <td>2017.0</td>\n",
       "      <td>[]</td>\n",
       "      <td>[{'credit_id': '5981a15c92514151e0011b51', 'department': 'Sound', 'gend...</td>\n",
       "    </tr>\n",
       "    <tr>\n",
       "      <th>529</th>\n",
       "      <td>[{'id': 80, 'name': 'Crime'}, {'id': 18, 'name': 'Drama'}, {'id': 53, '...</td>\n",
       "      <td>404604</td>\n",
       "      <td>Mom</td>\n",
       "      <td>2017.0</td>\n",
       "      <td>[{'cast_id': 1, 'character': 'Devki Sabarwal', 'credit_id': '577809adc3...</td>\n",
       "      <td>[{'credit_id': '58ee55bbc3a3683df500bd0f', 'department': 'Sound', 'gend...</td>\n",
       "    </tr>\n",
       "    <tr>\n",
       "      <th>530</th>\n",
       "      <td>[]</td>\n",
       "      <td>461257</td>\n",
       "      <td>Queerama</td>\n",
       "      <td>2017.0</td>\n",
       "      <td>[]</td>\n",
       "      <td>[{'credit_id': '593e676c92514105b702e68e', 'department': 'Directing', '...</td>\n",
       "    </tr>\n",
       "  </tbody>\n",
       "</table>\n",
       "<p>531 rows × 6 columns</p>\n",
       "</div>"
      ],
      "text/plain": [
       "                                                                         genres  \\\n",
       "0    [{'id': 12, 'name': 'Adventure'}, {'id': 28, 'name': 'Action'}, {'id': ...   \n",
       "1    [{'id': 28, 'name': 'Action'}, {'id': 12, 'name': 'Adventure'}, {'id': ...   \n",
       "2    [{'id': 28, 'name': 'Action'}, {'id': 12, 'name': 'Adventure'}, {'id': ...   \n",
       "3    [{'id': 28, 'name': 'Action'}, {'id': 12, 'name': 'Adventure'}, {'id': ...   \n",
       "4    [{'id': 14, 'name': 'Fantasy'}, {'id': 28, 'name': 'Action'}, {'id': 12...   \n",
       "..                                                                          ...   \n",
       "526            [{'id': 10749, 'name': 'Romance'}, {'id': 35, 'name': 'Comedy'}]   \n",
       "527  [{'id': 80, 'name': 'Crime'}, {'id': 35, 'name': 'Comedy'}, {'id': 28, ...   \n",
       "528  [{'id': 10751, 'name': 'Family'}, {'id': 16, 'name': 'Animation'}, {'id...   \n",
       "529  [{'id': 80, 'name': 'Crime'}, {'id': 18, 'name': 'Drama'}, {'id': 53, '...   \n",
       "530                                                                          []   \n",
       "\n",
       "         id                                             title    year  \\\n",
       "0    166426  Pirates of the Caribbean: Dead Men Tell No Tales  2017.0   \n",
       "1    141052                                    Justice League  2017.0   \n",
       "2    284053                                    Thor: Ragnarok  2017.0   \n",
       "3    283995                    Guardians of the Galaxy Vol. 2  2017.0   \n",
       "4    245842                               The King's Daughter  2017.0   \n",
       "..      ...                                               ...     ...   \n",
       "526  468707                  Thick Lashes of Lauri Mäntyvaara  2017.0   \n",
       "527  461297                       Cop and a Half: New Recruit  2017.0   \n",
       "528  455661                                    In a Heartbeat  2017.0   \n",
       "529  404604                                               Mom  2017.0   \n",
       "530  461257                                          Queerama  2017.0   \n",
       "\n",
       "                                                                           cast  \\\n",
       "0    [{'cast_id': 1, 'character': 'Captain Jack Sparrow', 'credit_id': '52fe...   \n",
       "1    [{'cast_id': 2, 'character': 'Bruce Wayne / Batman', 'credit_id': '535e...   \n",
       "2    [{'cast_id': 0, 'character': 'Thor Odinson', 'credit_id': '545d46a80e0a...   \n",
       "3    [{'cast_id': 3, 'character': 'Peter Quill / Star-Lord', 'credit_id': '5...   \n",
       "4    [{'cast_id': 0, 'character': 'King Louis XIV', 'credit_id': '5431dd580e...   \n",
       "..                                                                          ...   \n",
       "526  [{'cast_id': 0, 'character': 'Satu', 'credit_id': '597e2086c3a368544001...   \n",
       "527  [{'cast_id': 0, 'character': 'Detective Simmons', 'credit_id': '593ba04...   \n",
       "528                                                                          []   \n",
       "529  [{'cast_id': 1, 'character': 'Devki Sabarwal', 'credit_id': '577809adc3...   \n",
       "530                                                                          []   \n",
       "\n",
       "                                                                           crew  \n",
       "0    [{'credit_id': '52fe4c9cc3a36847f8236a65', 'department': 'Production', ...  \n",
       "1    [{'credit_id': '55ef66dbc3a3686f1700a52d', 'department': 'Production', ...  \n",
       "2    [{'credit_id': '56a93fa4c3a36872db001e7a', 'department': 'Writing', 'ge...  \n",
       "3    [{'credit_id': '59171547925141583c0315a6', 'department': 'Sound', 'gend...  \n",
       "4    [{'credit_id': '5431de49c3a36825d300007e', 'department': 'Directing', '...  \n",
       "..                                                                          ...  \n",
       "526  [{'credit_id': '597e22f69251415d7801c74a', 'department': 'Directing', '...  \n",
       "527  [{'credit_id': '593ba0c29251410593009be3', 'department': 'Writing', 'ge...  \n",
       "528  [{'credit_id': '5981a15c92514151e0011b51', 'department': 'Sound', 'gend...  \n",
       "529  [{'credit_id': '58ee55bbc3a3683df500bd0f', 'department': 'Sound', 'gend...  \n",
       "530  [{'credit_id': '593e676c92514105b702e68e', 'department': 'Directing', '...  \n",
       "\n",
       "[531 rows x 6 columns]"
      ]
     },
     "execution_count": 12,
     "metadata": {},
     "output_type": "execute_result"
    }
   ],
   "source": [
    "pd.set_option('display.max_colwidth', 75)\n",
    "data"
   ]
  },
  {
   "cell_type": "code",
   "execution_count": 13,
   "metadata": {},
   "outputs": [],
   "source": [
    "# evaluates an expression node or a string containing a Python literal or container display\n",
    "import ast\n",
    "data['genres'] = data['genres'].map(lambda x: ast.literal_eval(x))\n",
    "data['cast'] = data['cast'].map(lambda x: ast.literal_eval(x))\n",
    "data['crew'] = data['crew'].map(lambda x: ast.literal_eval(x))"
   ]
  },
  {
   "cell_type": "code",
   "execution_count": 14,
   "metadata": {},
   "outputs": [],
   "source": [
    "def make_genresList(x):\n",
    "    gen = []\n",
    "    st = \" \"\n",
    "    for i in x:\n",
    "        if i.get('name') == 'Science Fiction':\n",
    "            scifi = 'Sci-Fi'\n",
    "            gen.append(scifi)\n",
    "        else:\n",
    "            gen.append(i.get('name'))\n",
    "    if gen == []:\n",
    "        return np.NaN\n",
    "    else:\n",
    "        return (st.join(gen))"
   ]
  },
  {
   "cell_type": "code",
   "execution_count": 15,
   "metadata": {},
   "outputs": [],
   "source": [
    "data['genres_list'] = data['genres'].map(lambda x: make_genresList(x))"
   ]
  },
  {
   "cell_type": "code",
   "execution_count": 16,
   "metadata": {},
   "outputs": [
    {
     "data": {
      "text/plain": [
       "0      Adventure Action Fantasy Comedy\n",
       "1      Action Adventure Fantasy Sci-Fi\n",
       "2      Action Adventure Fantasy Sci-Fi\n",
       "3       Action Adventure Comedy Sci-Fi\n",
       "4             Fantasy Action Adventure\n",
       "                    ...               \n",
       "526                     Romance Comedy\n",
       "527         Crime Comedy Action Family\n",
       "528    Family Animation Romance Comedy\n",
       "529               Crime Drama Thriller\n",
       "530                                NaN\n",
       "Name: genres_list, Length: 531, dtype: object"
      ]
     },
     "execution_count": 16,
     "metadata": {},
     "output_type": "execute_result"
    }
   ],
   "source": [
    "data['genres_list']"
   ]
  },
  {
   "cell_type": "code",
   "execution_count": 17,
   "metadata": {},
   "outputs": [],
   "source": [
    "def get_actor1(x):\n",
    "    casts = []\n",
    "    for i in x:\n",
    "        casts.append(i.get('name'))\n",
    "    if casts == []:\n",
    "        return np.NaN\n",
    "    else:\n",
    "        return (casts[0])"
   ]
  },
  {
   "cell_type": "code",
   "execution_count": 18,
   "metadata": {},
   "outputs": [],
   "source": [
    "data['actor_1_name'] = data['cast'].map(lambda x: get_actor1(x))"
   ]
  },
  {
   "cell_type": "code",
   "execution_count": 19,
   "metadata": {},
   "outputs": [],
   "source": [
    "def get_actor2(x):\n",
    "    casts = []\n",
    "    for i in x:\n",
    "        casts.append(i.get('name'))\n",
    "    if casts == [] or len(casts)<=1:\n",
    "        return np.NaN\n",
    "    else:\n",
    "        return (casts[1])"
   ]
  },
  {
   "cell_type": "code",
   "execution_count": 20,
   "metadata": {},
   "outputs": [],
   "source": [
    "data['actor_2_name'] = data['cast'].map(lambda x: get_actor2(x))"
   ]
  },
  {
   "cell_type": "code",
   "execution_count": 21,
   "metadata": {},
   "outputs": [
    {
     "data": {
      "text/plain": [
       "0       Javier Bardem\n",
       "1        Henry Cavill\n",
       "2      Tom Hiddleston\n",
       "3         Zoe Saldana\n",
       "4        William Hurt\n",
       "            ...      \n",
       "526     Rosa Honkonen\n",
       "527     Wallace Shawn\n",
       "528               NaN\n",
       "529         Sajal Ali\n",
       "530               NaN\n",
       "Name: actor_2_name, Length: 531, dtype: object"
      ]
     },
     "execution_count": 21,
     "metadata": {},
     "output_type": "execute_result"
    }
   ],
   "source": [
    "data['actor_2_name']"
   ]
  },
  {
   "cell_type": "code",
   "execution_count": 22,
   "metadata": {},
   "outputs": [],
   "source": [
    "def get_actor3(x):\n",
    "    casts = []\n",
    "    for i in x:\n",
    "        casts.append(i.get('name'))\n",
    "    if casts == [] or len(casts)<=2:\n",
    "        return np.NaN\n",
    "    else:\n",
    "        return (casts[2])"
   ]
  },
  {
   "cell_type": "code",
   "execution_count": 23,
   "metadata": {},
   "outputs": [],
   "source": [
    "data['actor_3_name'] = data['cast'].map(lambda x: get_actor3(x))"
   ]
  },
  {
   "cell_type": "code",
   "execution_count": 24,
   "metadata": {},
   "outputs": [
    {
     "data": {
      "text/plain": [
       "0        Geoffrey Rush\n",
       "1            Gal Gadot\n",
       "2       Cate Blanchett\n",
       "3        Dave Bautista\n",
       "4      Benjamin Walker\n",
       "            ...       \n",
       "526     Tiitus Rantala\n",
       "527        Gina Holden\n",
       "528                NaN\n",
       "529     Akshaye Khanna\n",
       "530                NaN\n",
       "Name: actor_3_name, Length: 531, dtype: object"
      ]
     },
     "execution_count": 24,
     "metadata": {},
     "output_type": "execute_result"
    }
   ],
   "source": [
    "data['actor_3_name']"
   ]
  },
  {
   "cell_type": "code",
   "execution_count": 25,
   "metadata": {},
   "outputs": [],
   "source": [
    "def get_directors(x):\n",
    "    dt = []\n",
    "    st = \" \"\n",
    "    for i in x:\n",
    "        if i.get('job') == 'Director':\n",
    "            dt.append(i.get('name'))\n",
    "    if dt == []:\n",
    "        return np.NaN\n",
    "    else:\n",
    "        return (st.join(dt))"
   ]
  },
  {
   "cell_type": "code",
   "execution_count": 26,
   "metadata": {},
   "outputs": [],
   "source": [
    "data['director_name'] = data['crew'].map(lambda x: get_directors(x))"
   ]
  },
  {
   "cell_type": "code",
   "execution_count": 27,
   "metadata": {},
   "outputs": [
    {
     "data": {
      "text/plain": [
       "0      Joachim Rønning Espen Sandberg\n",
       "1                         Zack Snyder\n",
       "2                       Taika Waititi\n",
       "3                          James Gunn\n",
       "4                       Sean McNamara\n",
       "                    ...              \n",
       "526                  Hannaleena Hauru\n",
       "527             Jonathan A. Rosenbaum\n",
       "528          Beth David Esteban Bravo\n",
       "529                      Ravi Udyawar\n",
       "530                     Daisy Asquith\n",
       "Name: director_name, Length: 531, dtype: object"
      ]
     },
     "execution_count": 27,
     "metadata": {},
     "output_type": "execute_result"
    }
   ],
   "source": [
    "data['director_name']"
   ]
  },
  {
   "cell_type": "code",
   "execution_count": 28,
   "metadata": {},
   "outputs": [],
   "source": [
    "movie = data.loc[:,['director_name','actor_1_name','actor_2_name','actor_3_name','genres_list','title']]"
   ]
  },
  {
   "cell_type": "code",
   "execution_count": 29,
   "metadata": {},
   "outputs": [
    {
     "data": {
      "text/html": [
       "<div>\n",
       "<style scoped>\n",
       "    .dataframe tbody tr th:only-of-type {\n",
       "        vertical-align: middle;\n",
       "    }\n",
       "\n",
       "    .dataframe tbody tr th {\n",
       "        vertical-align: top;\n",
       "    }\n",
       "\n",
       "    .dataframe thead th {\n",
       "        text-align: right;\n",
       "    }\n",
       "</style>\n",
       "<table border=\"1\" class=\"dataframe\">\n",
       "  <thead>\n",
       "    <tr style=\"text-align: right;\">\n",
       "      <th></th>\n",
       "      <th>director_name</th>\n",
       "      <th>actor_1_name</th>\n",
       "      <th>actor_2_name</th>\n",
       "      <th>actor_3_name</th>\n",
       "      <th>genres_list</th>\n",
       "      <th>title</th>\n",
       "    </tr>\n",
       "  </thead>\n",
       "  <tbody>\n",
       "    <tr>\n",
       "      <th>0</th>\n",
       "      <td>Joachim Rønning Espen Sandberg</td>\n",
       "      <td>Johnny Depp</td>\n",
       "      <td>Javier Bardem</td>\n",
       "      <td>Geoffrey Rush</td>\n",
       "      <td>Adventure Action Fantasy Comedy</td>\n",
       "      <td>Pirates of the Caribbean: Dead Men Tell No Tales</td>\n",
       "    </tr>\n",
       "    <tr>\n",
       "      <th>1</th>\n",
       "      <td>Zack Snyder</td>\n",
       "      <td>Ben Affleck</td>\n",
       "      <td>Henry Cavill</td>\n",
       "      <td>Gal Gadot</td>\n",
       "      <td>Action Adventure Fantasy Sci-Fi</td>\n",
       "      <td>Justice League</td>\n",
       "    </tr>\n",
       "    <tr>\n",
       "      <th>2</th>\n",
       "      <td>Taika Waititi</td>\n",
       "      <td>Chris Hemsworth</td>\n",
       "      <td>Tom Hiddleston</td>\n",
       "      <td>Cate Blanchett</td>\n",
       "      <td>Action Adventure Fantasy Sci-Fi</td>\n",
       "      <td>Thor: Ragnarok</td>\n",
       "    </tr>\n",
       "    <tr>\n",
       "      <th>3</th>\n",
       "      <td>James Gunn</td>\n",
       "      <td>Chris Pratt</td>\n",
       "      <td>Zoe Saldana</td>\n",
       "      <td>Dave Bautista</td>\n",
       "      <td>Action Adventure Comedy Sci-Fi</td>\n",
       "      <td>Guardians of the Galaxy Vol. 2</td>\n",
       "    </tr>\n",
       "    <tr>\n",
       "      <th>4</th>\n",
       "      <td>Sean McNamara</td>\n",
       "      <td>Pierce Brosnan</td>\n",
       "      <td>William Hurt</td>\n",
       "      <td>Benjamin Walker</td>\n",
       "      <td>Fantasy Action Adventure</td>\n",
       "      <td>The King's Daughter</td>\n",
       "    </tr>\n",
       "    <tr>\n",
       "      <th>...</th>\n",
       "      <td>...</td>\n",
       "      <td>...</td>\n",
       "      <td>...</td>\n",
       "      <td>...</td>\n",
       "      <td>...</td>\n",
       "      <td>...</td>\n",
       "    </tr>\n",
       "    <tr>\n",
       "      <th>526</th>\n",
       "      <td>Hannaleena Hauru</td>\n",
       "      <td>Inka Haapamäki</td>\n",
       "      <td>Rosa Honkonen</td>\n",
       "      <td>Tiitus Rantala</td>\n",
       "      <td>Romance Comedy</td>\n",
       "      <td>Thick Lashes of Lauri Mäntyvaara</td>\n",
       "    </tr>\n",
       "    <tr>\n",
       "      <th>527</th>\n",
       "      <td>Jonathan A. Rosenbaum</td>\n",
       "      <td>Lou Diamond Phillips</td>\n",
       "      <td>Wallace Shawn</td>\n",
       "      <td>Gina Holden</td>\n",
       "      <td>Crime Comedy Action Family</td>\n",
       "      <td>Cop and a Half: New Recruit</td>\n",
       "    </tr>\n",
       "    <tr>\n",
       "      <th>528</th>\n",
       "      <td>Beth David Esteban Bravo</td>\n",
       "      <td>NaN</td>\n",
       "      <td>NaN</td>\n",
       "      <td>NaN</td>\n",
       "      <td>Family Animation Romance Comedy</td>\n",
       "      <td>In a Heartbeat</td>\n",
       "    </tr>\n",
       "    <tr>\n",
       "      <th>529</th>\n",
       "      <td>Ravi Udyawar</td>\n",
       "      <td>Sridevi Kapoor</td>\n",
       "      <td>Sajal Ali</td>\n",
       "      <td>Akshaye Khanna</td>\n",
       "      <td>Crime Drama Thriller</td>\n",
       "      <td>Mom</td>\n",
       "    </tr>\n",
       "    <tr>\n",
       "      <th>530</th>\n",
       "      <td>Daisy Asquith</td>\n",
       "      <td>NaN</td>\n",
       "      <td>NaN</td>\n",
       "      <td>NaN</td>\n",
       "      <td>NaN</td>\n",
       "      <td>Queerama</td>\n",
       "    </tr>\n",
       "  </tbody>\n",
       "</table>\n",
       "<p>531 rows × 6 columns</p>\n",
       "</div>"
      ],
      "text/plain": [
       "                      director_name          actor_1_name    actor_2_name  \\\n",
       "0    Joachim Rønning Espen Sandberg           Johnny Depp   Javier Bardem   \n",
       "1                       Zack Snyder           Ben Affleck    Henry Cavill   \n",
       "2                     Taika Waititi       Chris Hemsworth  Tom Hiddleston   \n",
       "3                        James Gunn           Chris Pratt     Zoe Saldana   \n",
       "4                     Sean McNamara        Pierce Brosnan    William Hurt   \n",
       "..                              ...                   ...             ...   \n",
       "526                Hannaleena Hauru        Inka Haapamäki   Rosa Honkonen   \n",
       "527           Jonathan A. Rosenbaum  Lou Diamond Phillips   Wallace Shawn   \n",
       "528        Beth David Esteban Bravo                   NaN             NaN   \n",
       "529                    Ravi Udyawar        Sridevi Kapoor       Sajal Ali   \n",
       "530                   Daisy Asquith                   NaN             NaN   \n",
       "\n",
       "        actor_3_name                      genres_list  \\\n",
       "0      Geoffrey Rush  Adventure Action Fantasy Comedy   \n",
       "1          Gal Gadot  Action Adventure Fantasy Sci-Fi   \n",
       "2     Cate Blanchett  Action Adventure Fantasy Sci-Fi   \n",
       "3      Dave Bautista   Action Adventure Comedy Sci-Fi   \n",
       "4    Benjamin Walker         Fantasy Action Adventure   \n",
       "..               ...                              ...   \n",
       "526   Tiitus Rantala                   Romance Comedy   \n",
       "527      Gina Holden       Crime Comedy Action Family   \n",
       "528              NaN  Family Animation Romance Comedy   \n",
       "529   Akshaye Khanna             Crime Drama Thriller   \n",
       "530              NaN                              NaN   \n",
       "\n",
       "                                                title  \n",
       "0    Pirates of the Caribbean: Dead Men Tell No Tales  \n",
       "1                                      Justice League  \n",
       "2                                      Thor: Ragnarok  \n",
       "3                      Guardians of the Galaxy Vol. 2  \n",
       "4                                 The King's Daughter  \n",
       "..                                                ...  \n",
       "526                  Thick Lashes of Lauri Mäntyvaara  \n",
       "527                       Cop and a Half: New Recruit  \n",
       "528                                    In a Heartbeat  \n",
       "529                                               Mom  \n",
       "530                                          Queerama  \n",
       "\n",
       "[531 rows x 6 columns]"
      ]
     },
     "execution_count": 29,
     "metadata": {},
     "output_type": "execute_result"
    }
   ],
   "source": [
    "movie"
   ]
  },
  {
   "cell_type": "code",
   "execution_count": 30,
   "metadata": {},
   "outputs": [
    {
     "data": {
      "text/plain": [
       "director_name     4\n",
       "actor_1_name     22\n",
       "actor_2_name     55\n",
       "actor_3_name     70\n",
       "genres_list       7\n",
       "title             0\n",
       "dtype: int64"
      ]
     },
     "execution_count": 30,
     "metadata": {},
     "output_type": "execute_result"
    }
   ],
   "source": [
    "movie.isna().sum()"
   ]
  },
  {
   "cell_type": "code",
   "execution_count": 31,
   "metadata": {},
   "outputs": [],
   "source": [
    "movie = movie.dropna(how='any')"
   ]
  },
  {
   "cell_type": "code",
   "execution_count": 32,
   "metadata": {},
   "outputs": [
    {
     "data": {
      "text/plain": [
       "director_name    0\n",
       "actor_1_name     0\n",
       "actor_2_name     0\n",
       "actor_3_name     0\n",
       "genres_list      0\n",
       "title            0\n",
       "dtype: int64"
      ]
     },
     "execution_count": 32,
     "metadata": {},
     "output_type": "execute_result"
    }
   ],
   "source": [
    "movie.isna().sum()"
   ]
  },
  {
   "cell_type": "code",
   "execution_count": 33,
   "metadata": {},
   "outputs": [],
   "source": [
    "movie = movie.rename(columns={'genres_list':'genres'})\n",
    "movie = movie.rename(columns={'title':'movie_title'})"
   ]
  },
  {
   "cell_type": "code",
   "execution_count": 34,
   "metadata": {},
   "outputs": [],
   "source": [
    "movie['movie_title'] = movie['movie_title'].str.lower()"
   ]
  },
  {
   "cell_type": "code",
   "execution_count": 35,
   "metadata": {},
   "outputs": [],
   "source": [
    "movie['comb'] = movie['actor_1_name'] + ' ' + movie['actor_2_name'] + ' '+ movie['actor_3_name'] + ' '+ movie['director_name'] +' ' + movie['genres']"
   ]
  },
  {
   "cell_type": "code",
   "execution_count": 36,
   "metadata": {},
   "outputs": [
    {
     "data": {
      "text/html": [
       "<div>\n",
       "<style scoped>\n",
       "    .dataframe tbody tr th:only-of-type {\n",
       "        vertical-align: middle;\n",
       "    }\n",
       "\n",
       "    .dataframe tbody tr th {\n",
       "        vertical-align: top;\n",
       "    }\n",
       "\n",
       "    .dataframe thead th {\n",
       "        text-align: right;\n",
       "    }\n",
       "</style>\n",
       "<table border=\"1\" class=\"dataframe\">\n",
       "  <thead>\n",
       "    <tr style=\"text-align: right;\">\n",
       "      <th></th>\n",
       "      <th>director_name</th>\n",
       "      <th>actor_1_name</th>\n",
       "      <th>actor_2_name</th>\n",
       "      <th>actor_3_name</th>\n",
       "      <th>genres</th>\n",
       "      <th>movie_title</th>\n",
       "      <th>comb</th>\n",
       "    </tr>\n",
       "  </thead>\n",
       "  <tbody>\n",
       "    <tr>\n",
       "      <th>0</th>\n",
       "      <td>Joachim Rønning Espen Sandberg</td>\n",
       "      <td>Johnny Depp</td>\n",
       "      <td>Javier Bardem</td>\n",
       "      <td>Geoffrey Rush</td>\n",
       "      <td>Adventure Action Fantasy Comedy</td>\n",
       "      <td>pirates of the caribbean: dead men tell no tales</td>\n",
       "      <td>Johnny Depp Javier Bardem Geoffrey Rush Joachim Rønning Espen Sandberg ...</td>\n",
       "    </tr>\n",
       "    <tr>\n",
       "      <th>1</th>\n",
       "      <td>Zack Snyder</td>\n",
       "      <td>Ben Affleck</td>\n",
       "      <td>Henry Cavill</td>\n",
       "      <td>Gal Gadot</td>\n",
       "      <td>Action Adventure Fantasy Sci-Fi</td>\n",
       "      <td>justice league</td>\n",
       "      <td>Ben Affleck Henry Cavill Gal Gadot Zack Snyder Action Adventure Fantasy...</td>\n",
       "    </tr>\n",
       "    <tr>\n",
       "      <th>2</th>\n",
       "      <td>Taika Waititi</td>\n",
       "      <td>Chris Hemsworth</td>\n",
       "      <td>Tom Hiddleston</td>\n",
       "      <td>Cate Blanchett</td>\n",
       "      <td>Action Adventure Fantasy Sci-Fi</td>\n",
       "      <td>thor: ragnarok</td>\n",
       "      <td>Chris Hemsworth Tom Hiddleston Cate Blanchett Taika Waititi Action Adve...</td>\n",
       "    </tr>\n",
       "    <tr>\n",
       "      <th>3</th>\n",
       "      <td>James Gunn</td>\n",
       "      <td>Chris Pratt</td>\n",
       "      <td>Zoe Saldana</td>\n",
       "      <td>Dave Bautista</td>\n",
       "      <td>Action Adventure Comedy Sci-Fi</td>\n",
       "      <td>guardians of the galaxy vol. 2</td>\n",
       "      <td>Chris Pratt Zoe Saldana Dave Bautista James Gunn Action Adventure Comed...</td>\n",
       "    </tr>\n",
       "    <tr>\n",
       "      <th>4</th>\n",
       "      <td>Sean McNamara</td>\n",
       "      <td>Pierce Brosnan</td>\n",
       "      <td>William Hurt</td>\n",
       "      <td>Benjamin Walker</td>\n",
       "      <td>Fantasy Action Adventure</td>\n",
       "      <td>the king's daughter</td>\n",
       "      <td>Pierce Brosnan William Hurt Benjamin Walker Sean McNamara Fantasy Actio...</td>\n",
       "    </tr>\n",
       "    <tr>\n",
       "      <th>...</th>\n",
       "      <td>...</td>\n",
       "      <td>...</td>\n",
       "      <td>...</td>\n",
       "      <td>...</td>\n",
       "      <td>...</td>\n",
       "      <td>...</td>\n",
       "      <td>...</td>\n",
       "    </tr>\n",
       "    <tr>\n",
       "      <th>524</th>\n",
       "      <td>Jim Strouse</td>\n",
       "      <td>Jessica Williams</td>\n",
       "      <td>Chris O'Dowd</td>\n",
       "      <td>Keith Stanfield</td>\n",
       "      <td>Romance Comedy</td>\n",
       "      <td>the incredible jessica james</td>\n",
       "      <td>Jessica Williams Chris O'Dowd Keith Stanfield Jim Strouse Romance Comedy</td>\n",
       "    </tr>\n",
       "    <tr>\n",
       "      <th>525</th>\n",
       "      <td>Farhad Mann</td>\n",
       "      <td>Adelaide Kane</td>\n",
       "      <td>Benjamin Hollingsworth</td>\n",
       "      <td>Jean Louisa Kelly</td>\n",
       "      <td>Romance</td>\n",
       "      <td>can't buy my love</td>\n",
       "      <td>Adelaide Kane Benjamin Hollingsworth Jean Louisa Kelly Farhad Mann Romance</td>\n",
       "    </tr>\n",
       "    <tr>\n",
       "      <th>526</th>\n",
       "      <td>Hannaleena Hauru</td>\n",
       "      <td>Inka Haapamäki</td>\n",
       "      <td>Rosa Honkonen</td>\n",
       "      <td>Tiitus Rantala</td>\n",
       "      <td>Romance Comedy</td>\n",
       "      <td>thick lashes of lauri mäntyvaara</td>\n",
       "      <td>Inka Haapamäki Rosa Honkonen Tiitus Rantala Hannaleena Hauru Romance Co...</td>\n",
       "    </tr>\n",
       "    <tr>\n",
       "      <th>527</th>\n",
       "      <td>Jonathan A. Rosenbaum</td>\n",
       "      <td>Lou Diamond Phillips</td>\n",
       "      <td>Wallace Shawn</td>\n",
       "      <td>Gina Holden</td>\n",
       "      <td>Crime Comedy Action Family</td>\n",
       "      <td>cop and a half: new recruit</td>\n",
       "      <td>Lou Diamond Phillips Wallace Shawn Gina Holden Jonathan A. Rosenbaum Cr...</td>\n",
       "    </tr>\n",
       "    <tr>\n",
       "      <th>529</th>\n",
       "      <td>Ravi Udyawar</td>\n",
       "      <td>Sridevi Kapoor</td>\n",
       "      <td>Sajal Ali</td>\n",
       "      <td>Akshaye Khanna</td>\n",
       "      <td>Crime Drama Thriller</td>\n",
       "      <td>mom</td>\n",
       "      <td>Sridevi Kapoor Sajal Ali Akshaye Khanna Ravi Udyawar Crime Drama Thriller</td>\n",
       "    </tr>\n",
       "  </tbody>\n",
       "</table>\n",
       "<p>458 rows × 7 columns</p>\n",
       "</div>"
      ],
      "text/plain": [
       "                      director_name          actor_1_name  \\\n",
       "0    Joachim Rønning Espen Sandberg           Johnny Depp   \n",
       "1                       Zack Snyder           Ben Affleck   \n",
       "2                     Taika Waititi       Chris Hemsworth   \n",
       "3                        James Gunn           Chris Pratt   \n",
       "4                     Sean McNamara        Pierce Brosnan   \n",
       "..                              ...                   ...   \n",
       "524                     Jim Strouse      Jessica Williams   \n",
       "525                     Farhad Mann         Adelaide Kane   \n",
       "526                Hannaleena Hauru        Inka Haapamäki   \n",
       "527           Jonathan A. Rosenbaum  Lou Diamond Phillips   \n",
       "529                    Ravi Udyawar        Sridevi Kapoor   \n",
       "\n",
       "               actor_2_name       actor_3_name  \\\n",
       "0             Javier Bardem      Geoffrey Rush   \n",
       "1              Henry Cavill          Gal Gadot   \n",
       "2            Tom Hiddleston     Cate Blanchett   \n",
       "3               Zoe Saldana      Dave Bautista   \n",
       "4              William Hurt    Benjamin Walker   \n",
       "..                      ...                ...   \n",
       "524            Chris O'Dowd    Keith Stanfield   \n",
       "525  Benjamin Hollingsworth  Jean Louisa Kelly   \n",
       "526           Rosa Honkonen     Tiitus Rantala   \n",
       "527           Wallace Shawn        Gina Holden   \n",
       "529               Sajal Ali     Akshaye Khanna   \n",
       "\n",
       "                              genres  \\\n",
       "0    Adventure Action Fantasy Comedy   \n",
       "1    Action Adventure Fantasy Sci-Fi   \n",
       "2    Action Adventure Fantasy Sci-Fi   \n",
       "3     Action Adventure Comedy Sci-Fi   \n",
       "4           Fantasy Action Adventure   \n",
       "..                               ...   \n",
       "524                   Romance Comedy   \n",
       "525                          Romance   \n",
       "526                   Romance Comedy   \n",
       "527       Crime Comedy Action Family   \n",
       "529             Crime Drama Thriller   \n",
       "\n",
       "                                          movie_title  \\\n",
       "0    pirates of the caribbean: dead men tell no tales   \n",
       "1                                      justice league   \n",
       "2                                      thor: ragnarok   \n",
       "3                      guardians of the galaxy vol. 2   \n",
       "4                                 the king's daughter   \n",
       "..                                                ...   \n",
       "524                      the incredible jessica james   \n",
       "525                                 can't buy my love   \n",
       "526                  thick lashes of lauri mäntyvaara   \n",
       "527                       cop and a half: new recruit   \n",
       "529                                               mom   \n",
       "\n",
       "                                                                           comb  \n",
       "0    Johnny Depp Javier Bardem Geoffrey Rush Joachim Rønning Espen Sandberg ...  \n",
       "1    Ben Affleck Henry Cavill Gal Gadot Zack Snyder Action Adventure Fantasy...  \n",
       "2    Chris Hemsworth Tom Hiddleston Cate Blanchett Taika Waititi Action Adve...  \n",
       "3    Chris Pratt Zoe Saldana Dave Bautista James Gunn Action Adventure Comed...  \n",
       "4    Pierce Brosnan William Hurt Benjamin Walker Sean McNamara Fantasy Actio...  \n",
       "..                                                                          ...  \n",
       "524    Jessica Williams Chris O'Dowd Keith Stanfield Jim Strouse Romance Comedy  \n",
       "525  Adelaide Kane Benjamin Hollingsworth Jean Louisa Kelly Farhad Mann Romance  \n",
       "526  Inka Haapamäki Rosa Honkonen Tiitus Rantala Hannaleena Hauru Romance Co...  \n",
       "527  Lou Diamond Phillips Wallace Shawn Gina Holden Jonathan A. Rosenbaum Cr...  \n",
       "529   Sridevi Kapoor Sajal Ali Akshaye Khanna Ravi Udyawar Crime Drama Thriller  \n",
       "\n",
       "[458 rows x 7 columns]"
      ]
     },
     "execution_count": 36,
     "metadata": {},
     "output_type": "execute_result"
    }
   ],
   "source": [
    "movie"
   ]
  },
  {
   "cell_type": "code",
   "execution_count": 37,
   "metadata": {},
   "outputs": [
    {
     "ename": "FileNotFoundError",
     "evalue": "[Errno 2] No such file or directory: 'data.csv'",
     "output_type": "error",
     "traceback": [
      "\u001b[1;31m---------------------------------------------------------------------------\u001b[0m",
      "\u001b[1;31mFileNotFoundError\u001b[0m                         Traceback (most recent call last)",
      "Cell \u001b[1;32mIn[37], line 1\u001b[0m\n\u001b[1;32m----> 1\u001b[0m old \u001b[38;5;241m=\u001b[39m \u001b[43mpd\u001b[49m\u001b[38;5;241;43m.\u001b[39;49m\u001b[43mread_csv\u001b[49m\u001b[43m(\u001b[49m\u001b[38;5;124;43m'\u001b[39;49m\u001b[38;5;124;43mdata.csv\u001b[39;49m\u001b[38;5;124;43m'\u001b[39;49m\u001b[43m)\u001b[49m\n",
      "File \u001b[1;32m~\\AppData\\Local\\Programs\\Python\\Python312\\Lib\\site-packages\\pandas\\io\\parsers\\readers.py:1026\u001b[0m, in \u001b[0;36mread_csv\u001b[1;34m(filepath_or_buffer, sep, delimiter, header, names, index_col, usecols, dtype, engine, converters, true_values, false_values, skipinitialspace, skiprows, skipfooter, nrows, na_values, keep_default_na, na_filter, verbose, skip_blank_lines, parse_dates, infer_datetime_format, keep_date_col, date_parser, date_format, dayfirst, cache_dates, iterator, chunksize, compression, thousands, decimal, lineterminator, quotechar, quoting, doublequote, escapechar, comment, encoding, encoding_errors, dialect, on_bad_lines, delim_whitespace, low_memory, memory_map, float_precision, storage_options, dtype_backend)\u001b[0m\n\u001b[0;32m   1013\u001b[0m kwds_defaults \u001b[38;5;241m=\u001b[39m _refine_defaults_read(\n\u001b[0;32m   1014\u001b[0m     dialect,\n\u001b[0;32m   1015\u001b[0m     delimiter,\n\u001b[1;32m   (...)\u001b[0m\n\u001b[0;32m   1022\u001b[0m     dtype_backend\u001b[38;5;241m=\u001b[39mdtype_backend,\n\u001b[0;32m   1023\u001b[0m )\n\u001b[0;32m   1024\u001b[0m kwds\u001b[38;5;241m.\u001b[39mupdate(kwds_defaults)\n\u001b[1;32m-> 1026\u001b[0m \u001b[38;5;28;01mreturn\u001b[39;00m \u001b[43m_read\u001b[49m\u001b[43m(\u001b[49m\u001b[43mfilepath_or_buffer\u001b[49m\u001b[43m,\u001b[49m\u001b[43m \u001b[49m\u001b[43mkwds\u001b[49m\u001b[43m)\u001b[49m\n",
      "File \u001b[1;32m~\\AppData\\Local\\Programs\\Python\\Python312\\Lib\\site-packages\\pandas\\io\\parsers\\readers.py:620\u001b[0m, in \u001b[0;36m_read\u001b[1;34m(filepath_or_buffer, kwds)\u001b[0m\n\u001b[0;32m    617\u001b[0m _validate_names(kwds\u001b[38;5;241m.\u001b[39mget(\u001b[38;5;124m\"\u001b[39m\u001b[38;5;124mnames\u001b[39m\u001b[38;5;124m\"\u001b[39m, \u001b[38;5;28;01mNone\u001b[39;00m))\n\u001b[0;32m    619\u001b[0m \u001b[38;5;66;03m# Create the parser.\u001b[39;00m\n\u001b[1;32m--> 620\u001b[0m parser \u001b[38;5;241m=\u001b[39m \u001b[43mTextFileReader\u001b[49m\u001b[43m(\u001b[49m\u001b[43mfilepath_or_buffer\u001b[49m\u001b[43m,\u001b[49m\u001b[43m \u001b[49m\u001b[38;5;241;43m*\u001b[39;49m\u001b[38;5;241;43m*\u001b[39;49m\u001b[43mkwds\u001b[49m\u001b[43m)\u001b[49m\n\u001b[0;32m    622\u001b[0m \u001b[38;5;28;01mif\u001b[39;00m chunksize \u001b[38;5;129;01mor\u001b[39;00m iterator:\n\u001b[0;32m    623\u001b[0m     \u001b[38;5;28;01mreturn\u001b[39;00m parser\n",
      "File \u001b[1;32m~\\AppData\\Local\\Programs\\Python\\Python312\\Lib\\site-packages\\pandas\\io\\parsers\\readers.py:1620\u001b[0m, in \u001b[0;36mTextFileReader.__init__\u001b[1;34m(self, f, engine, **kwds)\u001b[0m\n\u001b[0;32m   1617\u001b[0m     \u001b[38;5;28mself\u001b[39m\u001b[38;5;241m.\u001b[39moptions[\u001b[38;5;124m\"\u001b[39m\u001b[38;5;124mhas_index_names\u001b[39m\u001b[38;5;124m\"\u001b[39m] \u001b[38;5;241m=\u001b[39m kwds[\u001b[38;5;124m\"\u001b[39m\u001b[38;5;124mhas_index_names\u001b[39m\u001b[38;5;124m\"\u001b[39m]\n\u001b[0;32m   1619\u001b[0m \u001b[38;5;28mself\u001b[39m\u001b[38;5;241m.\u001b[39mhandles: IOHandles \u001b[38;5;241m|\u001b[39m \u001b[38;5;28;01mNone\u001b[39;00m \u001b[38;5;241m=\u001b[39m \u001b[38;5;28;01mNone\u001b[39;00m\n\u001b[1;32m-> 1620\u001b[0m \u001b[38;5;28mself\u001b[39m\u001b[38;5;241m.\u001b[39m_engine \u001b[38;5;241m=\u001b[39m \u001b[38;5;28;43mself\u001b[39;49m\u001b[38;5;241;43m.\u001b[39;49m\u001b[43m_make_engine\u001b[49m\u001b[43m(\u001b[49m\u001b[43mf\u001b[49m\u001b[43m,\u001b[49m\u001b[43m \u001b[49m\u001b[38;5;28;43mself\u001b[39;49m\u001b[38;5;241;43m.\u001b[39;49m\u001b[43mengine\u001b[49m\u001b[43m)\u001b[49m\n",
      "File \u001b[1;32m~\\AppData\\Local\\Programs\\Python\\Python312\\Lib\\site-packages\\pandas\\io\\parsers\\readers.py:1880\u001b[0m, in \u001b[0;36mTextFileReader._make_engine\u001b[1;34m(self, f, engine)\u001b[0m\n\u001b[0;32m   1878\u001b[0m     \u001b[38;5;28;01mif\u001b[39;00m \u001b[38;5;124m\"\u001b[39m\u001b[38;5;124mb\u001b[39m\u001b[38;5;124m\"\u001b[39m \u001b[38;5;129;01mnot\u001b[39;00m \u001b[38;5;129;01min\u001b[39;00m mode:\n\u001b[0;32m   1879\u001b[0m         mode \u001b[38;5;241m+\u001b[39m\u001b[38;5;241m=\u001b[39m \u001b[38;5;124m\"\u001b[39m\u001b[38;5;124mb\u001b[39m\u001b[38;5;124m\"\u001b[39m\n\u001b[1;32m-> 1880\u001b[0m \u001b[38;5;28mself\u001b[39m\u001b[38;5;241m.\u001b[39mhandles \u001b[38;5;241m=\u001b[39m \u001b[43mget_handle\u001b[49m\u001b[43m(\u001b[49m\n\u001b[0;32m   1881\u001b[0m \u001b[43m    \u001b[49m\u001b[43mf\u001b[49m\u001b[43m,\u001b[49m\n\u001b[0;32m   1882\u001b[0m \u001b[43m    \u001b[49m\u001b[43mmode\u001b[49m\u001b[43m,\u001b[49m\n\u001b[0;32m   1883\u001b[0m \u001b[43m    \u001b[49m\u001b[43mencoding\u001b[49m\u001b[38;5;241;43m=\u001b[39;49m\u001b[38;5;28;43mself\u001b[39;49m\u001b[38;5;241;43m.\u001b[39;49m\u001b[43moptions\u001b[49m\u001b[38;5;241;43m.\u001b[39;49m\u001b[43mget\u001b[49m\u001b[43m(\u001b[49m\u001b[38;5;124;43m\"\u001b[39;49m\u001b[38;5;124;43mencoding\u001b[39;49m\u001b[38;5;124;43m\"\u001b[39;49m\u001b[43m,\u001b[49m\u001b[43m \u001b[49m\u001b[38;5;28;43;01mNone\u001b[39;49;00m\u001b[43m)\u001b[49m\u001b[43m,\u001b[49m\n\u001b[0;32m   1884\u001b[0m \u001b[43m    \u001b[49m\u001b[43mcompression\u001b[49m\u001b[38;5;241;43m=\u001b[39;49m\u001b[38;5;28;43mself\u001b[39;49m\u001b[38;5;241;43m.\u001b[39;49m\u001b[43moptions\u001b[49m\u001b[38;5;241;43m.\u001b[39;49m\u001b[43mget\u001b[49m\u001b[43m(\u001b[49m\u001b[38;5;124;43m\"\u001b[39;49m\u001b[38;5;124;43mcompression\u001b[39;49m\u001b[38;5;124;43m\"\u001b[39;49m\u001b[43m,\u001b[49m\u001b[43m \u001b[49m\u001b[38;5;28;43;01mNone\u001b[39;49;00m\u001b[43m)\u001b[49m\u001b[43m,\u001b[49m\n\u001b[0;32m   1885\u001b[0m \u001b[43m    \u001b[49m\u001b[43mmemory_map\u001b[49m\u001b[38;5;241;43m=\u001b[39;49m\u001b[38;5;28;43mself\u001b[39;49m\u001b[38;5;241;43m.\u001b[39;49m\u001b[43moptions\u001b[49m\u001b[38;5;241;43m.\u001b[39;49m\u001b[43mget\u001b[49m\u001b[43m(\u001b[49m\u001b[38;5;124;43m\"\u001b[39;49m\u001b[38;5;124;43mmemory_map\u001b[39;49m\u001b[38;5;124;43m\"\u001b[39;49m\u001b[43m,\u001b[49m\u001b[43m \u001b[49m\u001b[38;5;28;43;01mFalse\u001b[39;49;00m\u001b[43m)\u001b[49m\u001b[43m,\u001b[49m\n\u001b[0;32m   1886\u001b[0m \u001b[43m    \u001b[49m\u001b[43mis_text\u001b[49m\u001b[38;5;241;43m=\u001b[39;49m\u001b[43mis_text\u001b[49m\u001b[43m,\u001b[49m\n\u001b[0;32m   1887\u001b[0m \u001b[43m    \u001b[49m\u001b[43merrors\u001b[49m\u001b[38;5;241;43m=\u001b[39;49m\u001b[38;5;28;43mself\u001b[39;49m\u001b[38;5;241;43m.\u001b[39;49m\u001b[43moptions\u001b[49m\u001b[38;5;241;43m.\u001b[39;49m\u001b[43mget\u001b[49m\u001b[43m(\u001b[49m\u001b[38;5;124;43m\"\u001b[39;49m\u001b[38;5;124;43mencoding_errors\u001b[39;49m\u001b[38;5;124;43m\"\u001b[39;49m\u001b[43m,\u001b[49m\u001b[43m \u001b[49m\u001b[38;5;124;43m\"\u001b[39;49m\u001b[38;5;124;43mstrict\u001b[39;49m\u001b[38;5;124;43m\"\u001b[39;49m\u001b[43m)\u001b[49m\u001b[43m,\u001b[49m\n\u001b[0;32m   1888\u001b[0m \u001b[43m    \u001b[49m\u001b[43mstorage_options\u001b[49m\u001b[38;5;241;43m=\u001b[39;49m\u001b[38;5;28;43mself\u001b[39;49m\u001b[38;5;241;43m.\u001b[39;49m\u001b[43moptions\u001b[49m\u001b[38;5;241;43m.\u001b[39;49m\u001b[43mget\u001b[49m\u001b[43m(\u001b[49m\u001b[38;5;124;43m\"\u001b[39;49m\u001b[38;5;124;43mstorage_options\u001b[39;49m\u001b[38;5;124;43m\"\u001b[39;49m\u001b[43m,\u001b[49m\u001b[43m \u001b[49m\u001b[38;5;28;43;01mNone\u001b[39;49;00m\u001b[43m)\u001b[49m\u001b[43m,\u001b[49m\n\u001b[0;32m   1889\u001b[0m \u001b[43m\u001b[49m\u001b[43m)\u001b[49m\n\u001b[0;32m   1890\u001b[0m \u001b[38;5;28;01massert\u001b[39;00m \u001b[38;5;28mself\u001b[39m\u001b[38;5;241m.\u001b[39mhandles \u001b[38;5;129;01mis\u001b[39;00m \u001b[38;5;129;01mnot\u001b[39;00m \u001b[38;5;28;01mNone\u001b[39;00m\n\u001b[0;32m   1891\u001b[0m f \u001b[38;5;241m=\u001b[39m \u001b[38;5;28mself\u001b[39m\u001b[38;5;241m.\u001b[39mhandles\u001b[38;5;241m.\u001b[39mhandle\n",
      "File \u001b[1;32m~\\AppData\\Local\\Programs\\Python\\Python312\\Lib\\site-packages\\pandas\\io\\common.py:873\u001b[0m, in \u001b[0;36mget_handle\u001b[1;34m(path_or_buf, mode, encoding, compression, memory_map, is_text, errors, storage_options)\u001b[0m\n\u001b[0;32m    868\u001b[0m \u001b[38;5;28;01melif\u001b[39;00m \u001b[38;5;28misinstance\u001b[39m(handle, \u001b[38;5;28mstr\u001b[39m):\n\u001b[0;32m    869\u001b[0m     \u001b[38;5;66;03m# Check whether the filename is to be opened in binary mode.\u001b[39;00m\n\u001b[0;32m    870\u001b[0m     \u001b[38;5;66;03m# Binary mode does not support 'encoding' and 'newline'.\u001b[39;00m\n\u001b[0;32m    871\u001b[0m     \u001b[38;5;28;01mif\u001b[39;00m ioargs\u001b[38;5;241m.\u001b[39mencoding \u001b[38;5;129;01mand\u001b[39;00m \u001b[38;5;124m\"\u001b[39m\u001b[38;5;124mb\u001b[39m\u001b[38;5;124m\"\u001b[39m \u001b[38;5;129;01mnot\u001b[39;00m \u001b[38;5;129;01min\u001b[39;00m ioargs\u001b[38;5;241m.\u001b[39mmode:\n\u001b[0;32m    872\u001b[0m         \u001b[38;5;66;03m# Encoding\u001b[39;00m\n\u001b[1;32m--> 873\u001b[0m         handle \u001b[38;5;241m=\u001b[39m \u001b[38;5;28;43mopen\u001b[39;49m\u001b[43m(\u001b[49m\n\u001b[0;32m    874\u001b[0m \u001b[43m            \u001b[49m\u001b[43mhandle\u001b[49m\u001b[43m,\u001b[49m\n\u001b[0;32m    875\u001b[0m \u001b[43m            \u001b[49m\u001b[43mioargs\u001b[49m\u001b[38;5;241;43m.\u001b[39;49m\u001b[43mmode\u001b[49m\u001b[43m,\u001b[49m\n\u001b[0;32m    876\u001b[0m \u001b[43m            \u001b[49m\u001b[43mencoding\u001b[49m\u001b[38;5;241;43m=\u001b[39;49m\u001b[43mioargs\u001b[49m\u001b[38;5;241;43m.\u001b[39;49m\u001b[43mencoding\u001b[49m\u001b[43m,\u001b[49m\n\u001b[0;32m    877\u001b[0m \u001b[43m            \u001b[49m\u001b[43merrors\u001b[49m\u001b[38;5;241;43m=\u001b[39;49m\u001b[43merrors\u001b[49m\u001b[43m,\u001b[49m\n\u001b[0;32m    878\u001b[0m \u001b[43m            \u001b[49m\u001b[43mnewline\u001b[49m\u001b[38;5;241;43m=\u001b[39;49m\u001b[38;5;124;43m\"\u001b[39;49m\u001b[38;5;124;43m\"\u001b[39;49m\u001b[43m,\u001b[49m\n\u001b[0;32m    879\u001b[0m \u001b[43m        \u001b[49m\u001b[43m)\u001b[49m\n\u001b[0;32m    880\u001b[0m     \u001b[38;5;28;01melse\u001b[39;00m:\n\u001b[0;32m    881\u001b[0m         \u001b[38;5;66;03m# Binary mode\u001b[39;00m\n\u001b[0;32m    882\u001b[0m         handle \u001b[38;5;241m=\u001b[39m \u001b[38;5;28mopen\u001b[39m(handle, ioargs\u001b[38;5;241m.\u001b[39mmode)\n",
      "\u001b[1;31mFileNotFoundError\u001b[0m: [Errno 2] No such file or directory: 'data.csv'"
     ]
    }
   ],
   "source": [
    "old = pd.read_csv('data.csv')"
   ]
  },
  {
   "cell_type": "code",
   "execution_count": null,
   "metadata": {},
   "outputs": [],
   "source": [
    "old"
   ]
  },
  {
   "cell_type": "code",
   "execution_count": null,
   "metadata": {},
   "outputs": [],
   "source": [
    "old['comb'] = old['actor_1_name'] + ' ' + old['actor_2_name'] + ' '+ old['actor_3_name'] + ' '+ old['director_name'] +' ' + old['genres']"
   ]
  },
  {
   "cell_type": "code",
   "execution_count": null,
   "metadata": {},
   "outputs": [],
   "source": [
    "old"
   ]
  },
  {
   "cell_type": "code",
   "execution_count": null,
   "metadata": {},
   "outputs": [],
   "source": [
    "new = old.append(movie)"
   ]
  },
  {
   "cell_type": "code",
   "execution_count": null,
   "metadata": {},
   "outputs": [],
   "source": [
    "new"
   ]
  },
  {
   "cell_type": "code",
   "execution_count": null,
   "metadata": {},
   "outputs": [],
   "source": [
    "new.drop_duplicates(subset =\"movie_title\", keep = 'last', inplace = True)"
   ]
  },
  {
   "cell_type": "code",
   "execution_count": null,
   "metadata": {},
   "outputs": [],
   "source": [
    "new"
   ]
  },
  {
   "cell_type": "code",
   "execution_count": null,
   "metadata": {},
   "outputs": [],
   "source": [
    "new.to_csv('new_data.csv',index=False)"
   ]
  },
  {
   "cell_type": "code",
   "execution_count": null,
   "metadata": {},
   "outputs": [],
   "source": []
  }
 ],
 "metadata": {
  "kernelspec": {
   "display_name": "Python 3 (ipykernel)",
   "language": "python",
   "name": "python3"
  },
  "language_info": {
   "codemirror_mode": {
    "name": "ipython",
    "version": 3
   },
   "file_extension": ".py",
   "mimetype": "text/x-python",
   "name": "python",
   "nbconvert_exporter": "python",
   "pygments_lexer": "ipython3",
   "version": "3.12.3"
  }
 },
 "nbformat": 4,
 "nbformat_minor": 4
}
